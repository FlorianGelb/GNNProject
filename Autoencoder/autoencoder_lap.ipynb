{
 "cells": [
  {
   "cell_type": "code",
   "execution_count": 1,
   "metadata": {},
   "outputs": [],
   "source": [
    "import torch\n",
    "import torch.nn as nn\n",
    "import torch.nn.functional as F\n",
    "import torch.optim as optim\n",
    "from torchvision import transforms,datasets\n",
    "from torch.utils.data import Dataset,DataLoader,random_split,Subset\n",
    "import matplotlib.pyplot as plt \n",
    "import pandas as pd\n",
    "import os\n",
    "from PIL import Image"
   ]
  },
  {
   "cell_type": "code",
   "execution_count": 5,
   "metadata": {},
   "outputs": [],
   "source": [
    "import sys\n",
    "sys.path.insert(0, '/Users/anureddy/Desktop/GNNProject')  # Adjust the path according to the location of the notebook\n",
    "\n",
    "from Pruning.laprune import LAP  # Import LAP function"
   ]
  },
  {
   "cell_type": "code",
   "execution_count": 6,
   "metadata": {},
   "outputs": [],
   "source": [
    "data = pd.read_csv('/Users/anureddy/Desktop/SEM03/Generative_NN_for_the_Sciences/Project_proposal/GNNProject/DataPreparation/CorruptedData/Names.csv')\n"
   ]
  },
  {
   "cell_type": "code",
   "execution_count": 7,
   "metadata": {},
   "outputs": [],
   "source": [
    "class FashionMNISTDataset(Dataset):\n",
    "    def __init__(self,dataframe,root_dir,transform=None):\n",
    "        self.dataframe=dataframe\n",
    "        self.root_dir = root_dir\n",
    "        self.transform=transform\n",
    "    def __len__(self):\n",
    "        return len(self.dataframe)\n",
    "    def __getitem__(self,idx):\n",
    "        img_name=os.path.join(self.root_dir,self.dataframe.iloc[idx,0])\n",
    "        image=Image.open(img_name)\n",
    "        label=self.dataframe.iloc[idx,1]\n",
    "        if self.transform:\n",
    "            image=self.transform(image)\n",
    "        return image,image"
   ]
  },
  {
   "cell_type": "code",
   "execution_count": 8,
   "metadata": {},
   "outputs": [],
   "source": [
    "transform = transforms.ToTensor()"
   ]
  },
  {
   "cell_type": "code",
   "execution_count": 9,
   "metadata": {},
   "outputs": [],
   "source": [
    "root_dir = '/Users/anureddy/Desktop/SEM03/Generative_NN_for_the_Sciences/Project_proposal/GNNProject/DataPreparation/CorruptedData'\n",
    "dataset = FashionMNISTDataset(dataframe=data,root_dir=root_dir,transform=transform)\n"
   ]
  },
  {
   "cell_type": "code",
   "execution_count": 10,
   "metadata": {},
   "outputs": [
    {
     "name": "stdout",
     "output_type": "stream",
     "text": [
      "Total number of images: 60000\n"
     ]
    }
   ],
   "source": [
    "total_images = len(dataset)\n",
    "print(f'Total number of images: {total_images}')"
   ]
  },
  {
   "cell_type": "code",
   "execution_count": 11,
   "metadata": {},
   "outputs": [],
   "source": [
    "subset_size = int(0.3 * total_images)  \n",
    "indices = torch.randperm(len(dataset)).tolist()\n",
    "subset_indices = indices[:subset_size]\n",
    "subset_dataset = Subset(dataset, subset_indices)"
   ]
  },
  {
   "cell_type": "code",
   "execution_count": 12,
   "metadata": {},
   "outputs": [],
   "source": [
    "# Split the subset dataset into train and test sets\n",
    "train_size = int(0.8 * len(subset_dataset))  # 80% for training\n",
    "test_size = len(subset_dataset) - train_size  # Remaining for testing\n",
    "\n",
    "train_dataset, test_dataset = random_split(subset_dataset, [train_size, test_size])\n",
    "\n",
    "# Create DataLoader instances\n",
    "train_dataloader = DataLoader(train_dataset, batch_size=64, shuffle=True)\n",
    "test_dataloader = DataLoader(test_dataset, batch_size=64)"
   ]
  },
  {
   "cell_type": "code",
   "execution_count": 13,
   "metadata": {},
   "outputs": [
    {
     "name": "stdout",
     "output_type": "stream",
     "text": [
      "torch.Size([64, 1, 28, 28])\n"
     ]
    }
   ],
   "source": [
    "images,_ = next(iter(train_dataloader))\n",
    "print(images.shape)"
   ]
  },
  {
   "cell_type": "code",
   "execution_count": 14,
   "metadata": {},
   "outputs": [
    {
     "name": "stdout",
     "output_type": "stream",
     "text": [
      "tensor(0.) tensor(0.9725)\n"
     ]
    }
   ],
   "source": [
    "dataiter= iter(train_dataloader)\n",
    "images,labels = dataiter.__next__()\n",
    "print(torch.min(images),torch.max(images))"
   ]
  },
  {
   "cell_type": "code",
   "execution_count": 15,
   "metadata": {},
   "outputs": [],
   "source": [
    "class AutoEncoder(nn.Module):\n",
    "    def __init__(self, input_size, bottleneck_size, hidden_sizes, layers):\n",
    "        super(AutoEncoder, self).__init__()\n",
    "        self.input_size = input_size\n",
    "        self.bottleneck_size = bottleneck_size\n",
    "        self.hidden_sizes = hidden_sizes\n",
    "        self.layers = layers\n",
    "\n",
    "        # Encoder\n",
    "        encoder_layers = [nn.Linear(input_size, hidden_sizes[0]), nn.ReLU()]\n",
    "        for i in range(1, layers):\n",
    "            encoder_layers.append(nn.Linear(hidden_sizes[i-1], hidden_sizes[i]))\n",
    "            encoder_layers.append(nn.ReLU())\n",
    "        encoder_layers.append(nn.Linear(hidden_sizes[-1], bottleneck_size))\n",
    "        self.encoder = nn.Sequential(*encoder_layers)\n",
    "\n",
    "        # Decoder\n",
    "        decoder_layers = [nn.Linear(bottleneck_size, hidden_sizes[-1]), nn.ReLU()]\n",
    "        for i in reversed(range(1, layers)):\n",
    "            decoder_layers.append(nn.Linear(hidden_sizes[i], hidden_sizes[i-1]))\n",
    "            decoder_layers.append(nn.ReLU())\n",
    "        decoder_layers.append(nn.Linear(hidden_sizes[0], input_size))\n",
    "        self.decoder = nn.Sequential(*decoder_layers)\n",
    "\n",
    "    def forward(self, x):\n",
    "        encoded = self.encoder(x)\n",
    "        decoded = self.decoder(encoded)\n",
    "        return decoded\n",
    "\n",
    "    def calculate_loss(self, X):\n",
    "        reconstructed = self.forward(X)\n",
    "        loss = nn.MSELoss()(reconstructed, X)\n",
    "        return loss\n",
    "\n",
    "    def train_autoencoder(self, dataloader, epochs, lr=0.01, use_lap=False, prune_ratios=None, bn_factors=None, lap_interval=5):\n",
    "        optimizer = optim.Adam(self.parameters(), lr=lr)\n",
    "        losses = []\n",
    "        sparsity_levels = []\n",
    "\n",
    "        for epoch in range(epochs):\n",
    "            total_loss = 0\n",
    "            for X_batch, _ in dataloader:\n",
    "                X_batch = X_batch.float()\n",
    "                X_batch = X_batch.view(X_batch.size(0), -1)\n",
    "\n",
    "                optimizer.zero_grad()\n",
    "                loss = self.calculate_loss(X_batch)\n",
    "                loss.backward()\n",
    "                optimizer.step()\n",
    "                total_loss += loss.item()\n",
    "\n",
    "            avg_loss = total_loss / len(dataloader)\n",
    "            losses.append(avg_loss)\n",
    "            sparsity_levels.append(self.calculate_sparsity())  # Store sparsity level\n",
    "\n",
    "            if use_lap and epoch % lap_interval == 0 and epoch > 0:\n",
    "                self.apply_lap(prune_ratios, bn_factors)\n",
    "\n",
    "            print(f'Epoch {epoch+1}/{epochs}, Average Loss: {avg_loss}, Sparsity Level: {sparsity_levels[-1]}')\n",
    "\n",
    "        return losses, sparsity_levels\n",
    "    def calculate_sparsity(self):\n",
    "        total_weights = 0\n",
    "        total_zero_weights = 0\n",
    "        for param in self.parameters():\n",
    "            if param.dim() > 1:  # Only consider weights of layers, not biases\n",
    "                total_weights += param.numel()\n",
    "                total_zero_weights += torch.sum(param == 0).item()\n",
    "        sparsity_level = total_zero_weights / total_weights\n",
    "        return sparsity_level\n",
    "\n",
    "\n",
    "    def apply_lap(self, prune_ratios, bn_factors=None):\n",
    "        weights = [param.data for param in self.parameters() if len(param.data.size()) > 1]\n",
    "        masks = [torch.ones_like(weight) for weight in weights]\n",
    "        \n",
    "        # Assuming LAP function is correctly implemented and available\n",
    "        new_masks = LAP(weights, masks, prune_ratios, bn_factors=bn_factors)\n",
    "        \n",
    "        # Apply new masks\n",
    "        for param, mask in zip([param for param in self.parameters() if len(param.data.size()) > 1], new_masks):\n",
    "            param.data.mul_(mask)"
   ]
  },
  {
   "cell_type": "code",
   "execution_count": 16,
   "metadata": {},
   "outputs": [],
   "source": [
    "input_size = 784  # For MNIST\n",
    "bottleneck_size = 32\n",
    "hidden_sizes = [128, 64]\n",
    "layers = 2\n",
    "epochs = 100\n",
    "lr = 0.01\n",
    "autoencoder = AutoEncoder(input_size, bottleneck_size, hidden_sizes, layers)"
   ]
  },
  {
   "cell_type": "code",
   "execution_count": 17,
   "metadata": {},
   "outputs": [
    {
     "name": "stdout",
     "output_type": "stream",
     "text": [
      "Epoch 1/100, Average Loss: 0.018546582785331542, Sparsity Level: 0.0\n",
      "Epoch 2/100, Average Loss: 0.0064745966055326995, Sparsity Level: 0.0\n",
      "Epoch 3/100, Average Loss: 0.005337392534646723, Sparsity Level: 0.0\n",
      "Epoch 4/100, Average Loss: 0.007209830985714992, Sparsity Level: 0.0\n",
      "Epoch 5/100, Average Loss: 0.006602860699511237, Sparsity Level: 0.0\n",
      "Epoch 6/100, Average Loss: 0.006246824090679486, Sparsity Level: 0.0\n",
      "Epoch 7/100, Average Loss: 0.005223295127766, Sparsity Level: 0.0\n",
      "Epoch 8/100, Average Loss: 0.0051867190914021595, Sparsity Level: 0.0\n",
      "Epoch 9/100, Average Loss: 0.00514386214936773, Sparsity Level: 0.0\n",
      "Epoch 10/100, Average Loss: 0.004204379406033291, Sparsity Level: 0.0\n",
      "Epoch 11/100, Average Loss: 0.004131829310208559, Sparsity Level: 0.0\n",
      "Epoch 12/100, Average Loss: 0.004163116438107358, Sparsity Level: 0.0\n",
      "Epoch 13/100, Average Loss: 0.004154056882899669, Sparsity Level: 0.0\n",
      "Epoch 14/100, Average Loss: 0.004083251335347692, Sparsity Level: 0.0\n",
      "Epoch 15/100, Average Loss: 0.004379751032425298, Sparsity Level: 0.0\n",
      "Epoch 16/100, Average Loss: 0.004037112671261033, Sparsity Level: 0.0\n",
      "Epoch 17/100, Average Loss: 0.003996645921013422, Sparsity Level: 0.0\n",
      "Epoch 18/100, Average Loss: 0.004010076699778438, Sparsity Level: 0.0\n",
      "Epoch 19/100, Average Loss: 0.004196965670627025, Sparsity Level: 0.0\n",
      "Epoch 20/100, Average Loss: 0.003995371609926223, Sparsity Level: 0.0\n",
      "Epoch 21/100, Average Loss: 0.003983884937026435, Sparsity Level: 0.0\n",
      "Epoch 22/100, Average Loss: 0.004045376142279969, Sparsity Level: 0.0\n",
      "Epoch 23/100, Average Loss: 0.00395748430552582, Sparsity Level: 0.0\n",
      "Epoch 24/100, Average Loss: 0.004001516178250313, Sparsity Level: 0.0\n",
      "Epoch 25/100, Average Loss: 0.004411811827578479, Sparsity Level: 0.0\n",
      "Epoch 26/100, Average Loss: 0.004055739577031798, Sparsity Level: 0.0\n",
      "Epoch 27/100, Average Loss: 0.003975948130504952, Sparsity Level: 0.0\n",
      "Epoch 28/100, Average Loss: 0.0039706952921632266, Sparsity Level: 0.0\n",
      "Epoch 29/100, Average Loss: 0.0039420674979272815, Sparsity Level: 0.0\n",
      "Epoch 30/100, Average Loss: 0.004006200161659056, Sparsity Level: 0.0\n",
      "Epoch 31/100, Average Loss: 0.003976641682287057, Sparsity Level: 0.0\n",
      "Epoch 32/100, Average Loss: 0.003973272287597259, Sparsity Level: 0.0\n",
      "Epoch 33/100, Average Loss: 0.0041660596440649695, Sparsity Level: 0.0\n",
      "Epoch 34/100, Average Loss: 0.004101227389441596, Sparsity Level: 0.0\n",
      "Epoch 35/100, Average Loss: 0.003928703846823838, Sparsity Level: 0.0\n",
      "Epoch 36/100, Average Loss: 0.003938411160682638, Sparsity Level: 0.0\n",
      "Epoch 37/100, Average Loss: 0.003924209661781788, Sparsity Level: 0.0\n",
      "Epoch 38/100, Average Loss: 0.003947777678776118, Sparsity Level: 0.0\n",
      "Epoch 39/100, Average Loss: 0.003989919874196252, Sparsity Level: 0.0\n",
      "Epoch 40/100, Average Loss: 0.003955864493424693, Sparsity Level: 0.0\n",
      "Epoch 41/100, Average Loss: 0.0040697601499656835, Sparsity Level: 0.0\n",
      "Epoch 42/100, Average Loss: 0.003926196809237202, Sparsity Level: 0.0\n",
      "Epoch 43/100, Average Loss: 0.003957519626451863, Sparsity Level: 0.0\n",
      "Epoch 44/100, Average Loss: 0.003989768311795261, Sparsity Level: 0.0\n",
      "Epoch 45/100, Average Loss: 0.003955176429202159, Sparsity Level: 0.0\n",
      "Epoch 46/100, Average Loss: 0.0039186343954255186, Sparsity Level: 0.0\n",
      "Epoch 47/100, Average Loss: 0.003995247173847424, Sparsity Level: 0.0\n",
      "Epoch 48/100, Average Loss: 0.003927654993409912, Sparsity Level: 0.0\n",
      "Epoch 49/100, Average Loss: 0.00394580505684846, Sparsity Level: 0.0\n",
      "Epoch 50/100, Average Loss: 0.003965743261699875, Sparsity Level: 0.0\n",
      "Epoch 51/100, Average Loss: 0.003963661775406864, Sparsity Level: 0.0\n",
      "Epoch 52/100, Average Loss: 0.003990250329176585, Sparsity Level: 0.0\n",
      "Epoch 53/100, Average Loss: 0.003934092755532927, Sparsity Level: 0.0\n",
      "Epoch 54/100, Average Loss: 0.012508485540747643, Sparsity Level: 0.0\n",
      "Epoch 55/100, Average Loss: 0.028582363633645906, Sparsity Level: 0.0\n",
      "Epoch 56/100, Average Loss: 0.02856910030047099, Sparsity Level: 0.0\n",
      "Epoch 57/100, Average Loss: 0.028580754581424925, Sparsity Level: 0.0\n",
      "Epoch 58/100, Average Loss: 0.028565102169911066, Sparsity Level: 0.0\n",
      "Epoch 59/100, Average Loss: 0.028579473007056447, Sparsity Level: 0.0\n",
      "Epoch 60/100, Average Loss: 0.0285813983115885, Sparsity Level: 0.0\n",
      "Epoch 61/100, Average Loss: 0.02861996424694856, Sparsity Level: 0.0\n",
      "Epoch 62/100, Average Loss: 0.02858723801871141, Sparsity Level: 0.0\n",
      "Epoch 63/100, Average Loss: 0.028572184435195394, Sparsity Level: 0.0\n",
      "Epoch 64/100, Average Loss: 0.02858113870024681, Sparsity Level: 0.0\n",
      "Epoch 65/100, Average Loss: 0.028595635717113814, Sparsity Level: 0.0\n",
      "Epoch 66/100, Average Loss: 0.028601773836546475, Sparsity Level: 0.0\n",
      "Epoch 67/100, Average Loss: 0.02856515046623018, Sparsity Level: 0.0\n",
      "Epoch 68/100, Average Loss: 0.028591553957925904, Sparsity Level: 0.0\n",
      "Epoch 69/100, Average Loss: 0.02860251626206769, Sparsity Level: 0.0\n",
      "Epoch 70/100, Average Loss: 0.02860349843899409, Sparsity Level: 0.0\n",
      "Epoch 71/100, Average Loss: 0.028593568214111856, Sparsity Level: 0.0\n",
      "Epoch 72/100, Average Loss: 0.028608968440029355, Sparsity Level: 0.0\n",
      "Epoch 73/100, Average Loss: 0.028604179148872692, Sparsity Level: 0.0\n",
      "Epoch 74/100, Average Loss: 0.02860786128375265, Sparsity Level: 0.0\n",
      "Epoch 75/100, Average Loss: 0.028601127589742342, Sparsity Level: 0.0\n",
      "Epoch 76/100, Average Loss: 0.02859111605419053, Sparsity Level: 0.0\n",
      "Epoch 77/100, Average Loss: 0.028567171312040753, Sparsity Level: 0.0\n",
      "Epoch 78/100, Average Loss: 0.028577484091122946, Sparsity Level: 0.0\n",
      "Epoch 79/100, Average Loss: 0.028595538371139102, Sparsity Level: 0.0\n",
      "Epoch 80/100, Average Loss: 0.028572881834374533, Sparsity Level: 0.0\n",
      "Epoch 81/100, Average Loss: 0.028601698494619795, Sparsity Level: 0.0\n",
      "Epoch 82/100, Average Loss: 0.028559465234478314, Sparsity Level: 0.0\n",
      "Epoch 83/100, Average Loss: 0.02857132886019018, Sparsity Level: 0.0\n",
      "Epoch 84/100, Average Loss: 0.028640657919976446, Sparsity Level: 0.0\n",
      "Epoch 85/100, Average Loss: 0.028552271326382956, Sparsity Level: 0.0\n",
      "Epoch 86/100, Average Loss: 0.0285707458274232, Sparsity Level: 0.0\n",
      "Epoch 87/100, Average Loss: 0.02858092777431011, Sparsity Level: 0.0\n",
      "Epoch 88/100, Average Loss: 0.028591137222117848, Sparsity Level: 0.0\n",
      "Epoch 89/100, Average Loss: 0.02863696271346675, Sparsity Level: 0.0\n",
      "Epoch 90/100, Average Loss: 0.028646018364363247, Sparsity Level: 0.0\n",
      "Epoch 91/100, Average Loss: 0.028607855613032977, Sparsity Level: 0.0\n",
      "Epoch 92/100, Average Loss: 0.028623975382910834, Sparsity Level: 0.0\n",
      "Epoch 93/100, Average Loss: 0.028574444179733594, Sparsity Level: 0.0\n",
      "Epoch 94/100, Average Loss: 0.028594102735320728, Sparsity Level: 0.0\n",
      "Epoch 95/100, Average Loss: 0.028591679914130103, Sparsity Level: 0.0\n",
      "Epoch 96/100, Average Loss: 0.02860378697514534, Sparsity Level: 0.0\n",
      "Epoch 97/100, Average Loss: 0.028689179461863307, Sparsity Level: 0.0\n",
      "Epoch 98/100, Average Loss: 0.028585804427663484, Sparsity Level: 0.0\n",
      "Epoch 99/100, Average Loss: 0.028580924719572066, Sparsity Level: 0.0\n",
      "Epoch 100/100, Average Loss: 0.02856547549366951, Sparsity Level: 0.0\n"
     ]
    }
   ],
   "source": [
    "losses_without_lap, sparsity_levels_without_lap = autoencoder.train_autoencoder(train_dataloader, epochs, lr, use_lap=False)\n"
   ]
  },
  {
   "cell_type": "code",
   "execution_count": 18,
   "metadata": {},
   "outputs": [
    {
     "name": "stdout",
     "output_type": "stream",
     "text": [
      "Epoch 1/100, Average Loss: 0.01718118957968222, Sparsity Level: 0.0\n",
      "Epoch 2/100, Average Loss: 0.0059296818056868185, Sparsity Level: 0.0\n",
      "Epoch 3/100, Average Loss: 0.0053755585311187635, Sparsity Level: 0.0\n",
      "Epoch 4/100, Average Loss: 0.005134320538491011, Sparsity Level: 0.0\n",
      "Epoch 5/100, Average Loss: 0.004326868021032876, Sparsity Level: 0.0\n",
      "Epoch 6/100, Average Loss: 0.004262493136856291, Sparsity Level: 0.0\n",
      "Epoch 7/100, Average Loss: 0.004234904836242398, Sparsity Level: 0.0\n",
      "Epoch 8/100, Average Loss: 0.004177393272726072, Sparsity Level: 0.0\n",
      "Epoch 9/100, Average Loss: 0.009724229366208117, Sparsity Level: 0.0\n",
      "Epoch 10/100, Average Loss: 0.00663679604522056, Sparsity Level: 0.0\n",
      "Epoch 11/100, Average Loss: 0.006561741201827924, Sparsity Level: 0.0\n",
      "Epoch 12/100, Average Loss: 0.006569806892010901, Sparsity Level: 0.049519856770833336\n",
      "Epoch 13/100, Average Loss: 0.006563163861218426, Sparsity Level: 0.049519856770833336\n",
      "Epoch 14/100, Average Loss: 0.006583525145219432, Sparsity Level: 0.049519856770833336\n",
      "Epoch 15/100, Average Loss: 0.006585783420337571, Sparsity Level: 0.049519856770833336\n",
      "Epoch 16/100, Average Loss: 0.0065763334578110115, Sparsity Level: 0.049519856770833336\n",
      "Epoch 17/100, Average Loss: 0.006629091029365857, Sparsity Level: 0.049519856770833336\n",
      "Epoch 18/100, Average Loss: 0.006600370568533739, Sparsity Level: 0.049519856770833336\n",
      "Epoch 19/100, Average Loss: 0.006570288025670582, Sparsity Level: 0.049519856770833336\n",
      "Epoch 20/100, Average Loss: 0.006573246504283614, Sparsity Level: 0.049519856770833336\n",
      "Epoch 21/100, Average Loss: 0.006604956448492076, Sparsity Level: 0.049519856770833336\n",
      "Epoch 22/100, Average Loss: 0.0065688674172593485, Sparsity Level: 0.04997196903935185\n",
      "Epoch 23/100, Average Loss: 0.0066202589041656915, Sparsity Level: 0.04997196903935185\n",
      "Epoch 24/100, Average Loss: 0.006564373734096686, Sparsity Level: 0.04997196903935185\n",
      "Epoch 25/100, Average Loss: 0.006588498620937268, Sparsity Level: 0.04997196903935185\n",
      "Epoch 26/100, Average Loss: 0.0065745286415848465, Sparsity Level: 0.04997196903935185\n",
      "Epoch 27/100, Average Loss: 0.006622253745380375, Sparsity Level: 0.04997196903935185\n",
      "Epoch 28/100, Average Loss: 0.006586548981981145, Sparsity Level: 0.04997196903935185\n",
      "Epoch 29/100, Average Loss: 0.006579249323242241, Sparsity Level: 0.04997196903935185\n",
      "Epoch 30/100, Average Loss: 0.006571511555876997, Sparsity Level: 0.04997196903935185\n",
      "Epoch 31/100, Average Loss: 0.006591999052713315, Sparsity Level: 0.04997196903935185\n",
      "Epoch 32/100, Average Loss: 0.0065911834604210325, Sparsity Level: 0.049981011284722224\n",
      "Epoch 33/100, Average Loss: 0.006590465073370271, Sparsity Level: 0.049981011284722224\n",
      "Epoch 34/100, Average Loss: 0.006562595659246048, Sparsity Level: 0.049981011284722224\n",
      "Epoch 35/100, Average Loss: 0.006565157800085015, Sparsity Level: 0.049981011284722224\n",
      "Epoch 36/100, Average Loss: 0.006594048312140836, Sparsity Level: 0.049981011284722224\n",
      "Epoch 37/100, Average Loss: 0.006597376964572403, Sparsity Level: 0.049981011284722224\n",
      "Epoch 38/100, Average Loss: 0.006558164144969649, Sparsity Level: 0.049981011284722224\n",
      "Epoch 39/100, Average Loss: 0.012715423914293448, Sparsity Level: 0.049877025462962965\n",
      "Epoch 40/100, Average Loss: 0.02854404264026218, Sparsity Level: 0.049877025462962965\n",
      "Epoch 41/100, Average Loss: 0.028657587120930354, Sparsity Level: 0.049877025462962965\n",
      "Epoch 42/100, Average Loss: 0.028576036170125007, Sparsity Level: 0.04989963107638889\n",
      "Epoch 43/100, Average Loss: 0.028580218222406174, Sparsity Level: 0.04989963107638889\n",
      "Epoch 44/100, Average Loss: 0.02859168959988488, Sparsity Level: 0.04989963107638889\n",
      "Epoch 45/100, Average Loss: 0.028576699362860787, Sparsity Level: 0.04989963107638889\n",
      "Epoch 46/100, Average Loss: 0.02858414503435294, Sparsity Level: 0.04989963107638889\n",
      "Epoch 47/100, Average Loss: 0.02855304310719172, Sparsity Level: 0.04989963107638889\n",
      "Epoch 48/100, Average Loss: 0.028589557334780694, Sparsity Level: 0.04989963107638889\n",
      "Epoch 49/100, Average Loss: 0.028624232924646803, Sparsity Level: 0.04989963107638889\n",
      "Epoch 50/100, Average Loss: 0.02862934929629167, Sparsity Level: 0.04989963107638889\n",
      "Epoch 51/100, Average Loss: 0.028606245302491718, Sparsity Level: 0.04989963107638889\n",
      "Epoch 52/100, Average Loss: 0.028566360564695463, Sparsity Level: 0.050008138020833336\n",
      "Epoch 53/100, Average Loss: 0.028599875875645213, Sparsity Level: 0.050008138020833336\n",
      "Epoch 54/100, Average Loss: 0.028577858350343176, Sparsity Level: 0.050008138020833336\n",
      "Epoch 55/100, Average Loss: 0.02855206798348162, Sparsity Level: 0.050008138020833336\n",
      "Epoch 56/100, Average Loss: 0.02860669037534131, Sparsity Level: 0.050008138020833336\n",
      "Epoch 57/100, Average Loss: 0.02857614355782668, Sparsity Level: 0.050008138020833336\n",
      "Epoch 58/100, Average Loss: 0.02858388692140579, Sparsity Level: 0.050008138020833336\n",
      "Epoch 59/100, Average Loss: 0.028583569071359106, Sparsity Level: 0.050008138020833336\n",
      "Epoch 60/100, Average Loss: 0.02864284671843052, Sparsity Level: 0.050008138020833336\n",
      "Epoch 61/100, Average Loss: 0.028592025720410877, Sparsity Level: 0.050008138020833336\n",
      "Epoch 62/100, Average Loss: 0.028582295957538816, Sparsity Level: 0.050008138020833336\n",
      "Epoch 63/100, Average Loss: 0.02859859606458081, Sparsity Level: 0.050008138020833336\n",
      "Epoch 64/100, Average Loss: 0.028556700175007183, Sparsity Level: 0.050008138020833336\n",
      "Epoch 65/100, Average Loss: 0.028559950416286787, Sparsity Level: 0.050008138020833336\n",
      "Epoch 66/100, Average Loss: 0.028586834429038897, Sparsity Level: 0.050008138020833336\n",
      "Epoch 67/100, Average Loss: 0.028580518638094268, Sparsity Level: 0.050008138020833336\n",
      "Epoch 68/100, Average Loss: 0.028596731043524212, Sparsity Level: 0.050008138020833336\n",
      "Epoch 69/100, Average Loss: 0.028594687465164397, Sparsity Level: 0.050008138020833336\n",
      "Epoch 70/100, Average Loss: 0.02855427029232184, Sparsity Level: 0.050008138020833336\n",
      "Epoch 71/100, Average Loss: 0.028585822267664804, Sparsity Level: 0.050008138020833336\n",
      "Epoch 72/100, Average Loss: 0.02859489829176002, Sparsity Level: 0.050008138020833336\n",
      "Epoch 73/100, Average Loss: 0.0286228485736582, Sparsity Level: 0.050008138020833336\n",
      "Epoch 74/100, Average Loss: 0.028651467056738007, Sparsity Level: 0.050008138020833336\n",
      "Epoch 75/100, Average Loss: 0.02856844525370333, Sparsity Level: 0.050008138020833336\n",
      "Epoch 76/100, Average Loss: 0.028580633675058684, Sparsity Level: 0.050008138020833336\n",
      "Epoch 77/100, Average Loss: 0.028602859783503746, Sparsity Level: 0.050008138020833336\n",
      "Epoch 78/100, Average Loss: 0.028617007831732433, Sparsity Level: 0.050008138020833336\n",
      "Epoch 79/100, Average Loss: 0.028628560172186956, Sparsity Level: 0.050008138020833336\n",
      "Epoch 80/100, Average Loss: 0.02858567099604342, Sparsity Level: 0.050008138020833336\n",
      "Epoch 81/100, Average Loss: 0.028586315719617738, Sparsity Level: 0.050008138020833336\n",
      "Epoch 82/100, Average Loss: 0.028595688467224437, Sparsity Level: 0.050008138020833336\n",
      "Epoch 83/100, Average Loss: 0.028599184420373704, Sparsity Level: 0.050008138020833336\n",
      "Epoch 84/100, Average Loss: 0.02856819332473808, Sparsity Level: 0.050008138020833336\n",
      "Epoch 85/100, Average Loss: 0.028606897195180257, Sparsity Level: 0.050008138020833336\n",
      "Epoch 86/100, Average Loss: 0.028606685424844423, Sparsity Level: 0.050008138020833336\n",
      "Epoch 87/100, Average Loss: 0.028569175038072797, Sparsity Level: 0.050008138020833336\n",
      "Epoch 88/100, Average Loss: 0.028585903147856393, Sparsity Level: 0.050008138020833336\n",
      "Epoch 89/100, Average Loss: 0.028626552290386624, Sparsity Level: 0.050008138020833336\n",
      "Epoch 90/100, Average Loss: 0.028545601276887787, Sparsity Level: 0.050008138020833336\n",
      "Epoch 91/100, Average Loss: 0.028588162056273885, Sparsity Level: 0.050008138020833336\n",
      "Epoch 92/100, Average Loss: 0.028578713999854195, Sparsity Level: 0.050008138020833336\n",
      "Epoch 93/100, Average Loss: 0.028618830550048085, Sparsity Level: 0.050008138020833336\n",
      "Epoch 94/100, Average Loss: 0.028599533132380908, Sparsity Level: 0.050008138020833336\n",
      "Epoch 95/100, Average Loss: 0.028593049148718516, Sparsity Level: 0.050008138020833336\n",
      "Epoch 96/100, Average Loss: 0.028643563042084375, Sparsity Level: 0.050008138020833336\n",
      "Epoch 97/100, Average Loss: 0.02859511165983147, Sparsity Level: 0.050008138020833336\n",
      "Epoch 98/100, Average Loss: 0.028596004297335942, Sparsity Level: 0.050008138020833336\n",
      "Epoch 99/100, Average Loss: 0.028583600802554024, Sparsity Level: 0.050008138020833336\n",
      "Epoch 100/100, Average Loss: 0.028658626932236884, Sparsity Level: 0.050008138020833336\n"
     ]
    }
   ],
   "source": [
    "prune_ratios = [0.1, 0.1, 0.1]  # Adjust based on your network architecture\n",
    "autoencoder_with_lap = AutoEncoder(input_size, bottleneck_size, hidden_sizes, layers)  # Create another instance for LAP\n",
    "\n",
    "losses_with_lap, sparsity_levels_with_lap = autoencoder_with_lap.train_autoencoder(train_dataloader, epochs, lr, use_lap=True, prune_ratios=prune_ratios, lap_interval=10)"
   ]
  },
  {
   "cell_type": "code",
   "execution_count": 19,
   "metadata": {},
   "outputs": [
    {
     "data": {
      "image/png": "[encoded data removed]",
      "text/plain": [
       "<Figure size 1000x600 with 1 Axes>"
      ]
     },
     "metadata": {},
     "output_type": "display_data"
    }
   ],
   "source": [
    "plt.figure(figsize=(10, 6))\n",
    "\n",
    "# Plot for training without LAP\n",
    "plt.scatter(sparsity_levels_without_lap, losses_without_lap, label='Without LAP', alpha=0.7)\n",
    "\n",
    "# Plot for training with LAP\n",
    "plt.scatter(sparsity_levels_with_lap, losses_with_lap, label='With LAP', alpha=0.7)\n",
    "\n",
    "plt.title('AutoEncoder Performance: Loss vs. Sparsity Level')\n",
    "plt.xlabel('Sparsity Level')\n",
    "plt.ylabel('Loss')\n",
    "plt.legend()\n",
    "plt.grid(True)\n",
    "plt.show()"
   ]
  }
 ],
 "metadata": {
  "kernelspec": {
   "display_name": "Python 3",
   "language": "python",
   "name": "python3"
  },
  "language_info": {
   "codemirror_mode": {
    "name": "ipython",
    "version": 3
   },
   "file_extension": ".py",
   "mimetype": "text/x-python",
   "name": "python",
   "nbconvert_exporter": "python",
   "pygments_lexer": "ipython3",
   "version": "3.8.17"
  }
 },
 "nbformat": 4,
 "nbformat_minor": 2
}
